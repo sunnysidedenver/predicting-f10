{
 "cells": [
  {
   "cell_type": "markdown",
   "id": "b1c7e655",
   "metadata": {},
   "source": [
    "# <center> Predicting 10.7 cm Radio Flux (Days 1-7) Based on 2021-22 Solar Data </center>"
   ]
  },
  {
   "cell_type": "markdown",
   "id": "4e920ece",
   "metadata": {},
   "source": [
    "*Background: Forecasters at the SWPC create a 7-day forecast for daily 10.7 cm Radio Flux (\"F-10 numbers\") based on numerous qualitative and quantitative measures. F-10 numbers are often used as a proxy for how \"active\" or \"inactive\" the Sun is. The higher the number, the more activity. Higher F-10 numbers typically correlate to large, more complex sunspot regions and numerous, strong x-ray flares.* \n",
    "\n",
    "This project will determine if a machine learning algorithm can outperform forecasters in predicting F-10 numbers."
   ]
  },
  {
   "cell_type": "markdown",
   "id": "dff90074",
   "metadata": {},
   "source": [
    "## Data Collection, Processing & Staging"
   ]
  },
  {
   "cell_type": "markdown",
   "id": "a69f57c3",
   "metadata": {},
   "source": [
    "### Data Sources:"
   ]
  },
  {
   "cell_type": "markdown",
   "id": "3dfe6cb8",
   "metadata": {},
   "source": [
    "#### Penticton Daily F-10 (observed)"
   ]
  },
  {
   "cell_type": "markdown",
   "id": "0b55d229",
   "metadata": {},
   "source": [
    "Daily Flux was extracted spaceweather.gc.ca (Government of Canda) from a web table format into a Pandas DF"
   ]
  },
  {
   "cell_type": "code",
   "execution_count": 1,
   "id": "36a3bb25",
   "metadata": {},
   "outputs": [],
   "source": [
    "import pandas as pd"
   ]
  },
  {
   "cell_type": "code",
   "execution_count": 2,
   "id": "c22628ff",
   "metadata": {},
   "outputs": [],
   "source": [
    "import requests"
   ]
  },
  {
   "cell_type": "code",
   "execution_count": 3,
   "id": "05cb1f7b",
   "metadata": {},
   "outputs": [
    {
     "name": "stdout",
     "output_type": "stream",
     "text": [
      "            Date      Time   Julian day  Carringtonrotation  Observed Flux  \\\n",
      "0     2021-01-01  18:00:00  2459216.239            2239.252           79.8   \n",
      "1     2021-01-01  20:00:00  2459216.322            2239.255           80.4   \n",
      "2     2021-01-01  22:00:00  2459216.406            2239.258           79.9   \n",
      "3     2021-01-02  18:00:00  2459217.239            2239.288           80.6   \n",
      "4     2021-01-02  20:00:00  2459217.322            2239.291           81.5   \n",
      "...          ...       ...          ...                 ...            ...   \n",
      "1084  2021-12-30  20:00:00  2459579.322            2252.563          102.4   \n",
      "1085  2021-12-30  22:00:00  2459579.406            2252.566          103.2   \n",
      "1086  2021-12-31  18:00:00  2459580.239            2252.597          102.7   \n",
      "1087  2021-12-31  20:00:00  2459580.322            2252.600          101.5   \n",
      "1088  2021-12-31  22:00:00  2459580.406            2252.603          100.3   \n",
      "\n",
      "      Adjusted Flux  URSI Flux  \n",
      "0              77.2       69.4  \n",
      "1              77.7       70.0  \n",
      "2              77.3       69.5  \n",
      "3              78.0       70.2  \n",
      "4              78.8       70.9  \n",
      "...             ...        ...  \n",
      "1084           99.0       89.1  \n",
      "1085           99.8       89.8  \n",
      "1086           99.3       89.4  \n",
      "1087           98.2       88.4  \n",
      "1088           96.9       87.2  \n",
      "\n",
      "[1089 rows x 7 columns]\n"
     ]
    }
   ],
   "source": [
    "url = 'https://spaceweather.gc.ca/forecast-prevision/solar-solaire/solarflux/sx-5-flux-en.php?year=2021'\n",
    "html = requests.get(url).content\n",
    "f10_obs_list = pd.read_html(html)\n",
    "f10_obs = f10_obs_list[-1]\n",
    "print(f10_obs)\n",
    "f10_obs.to_csv('f10_obs.csv')"
   ]
  },
  {
   "cell_type": "code",
   "execution_count": 4,
   "id": "b0cddb73",
   "metadata": {},
   "outputs": [
    {
     "data": {
      "text/plain": [
       "Index(['Date', 'Time', 'Julian day', 'Carringtonrotation', 'Observed Flux',\n",
       "       'Adjusted Flux', 'URSI Flux'],\n",
       "      dtype='object')"
      ]
     },
     "execution_count": 4,
     "metadata": {},
     "output_type": "execute_result"
    }
   ],
   "source": [
    "f10_obs.columns"
   ]
  },
  {
   "cell_type": "markdown",
   "id": "214af95b",
   "metadata": {},
   "source": [
    "I have a lot of columns I don't need. I will clean up the table."
   ]
  },
  {
   "cell_type": "code",
   "execution_count": 5,
   "id": "cf003688",
   "metadata": {},
   "outputs": [
    {
     "data": {
      "text/html": [
       "<div>\n",
       "<style scoped>\n",
       "    .dataframe tbody tr th:only-of-type {\n",
       "        vertical-align: middle;\n",
       "    }\n",
       "\n",
       "    .dataframe tbody tr th {\n",
       "        vertical-align: top;\n",
       "    }\n",
       "\n",
       "    .dataframe thead th {\n",
       "        text-align: right;\n",
       "    }\n",
       "</style>\n",
       "<table border=\"1\" class=\"dataframe\">\n",
       "  <thead>\n",
       "    <tr style=\"text-align: right;\">\n",
       "      <th></th>\n",
       "      <th>Date</th>\n",
       "      <th>Time</th>\n",
       "      <th>Observed Flux</th>\n",
       "    </tr>\n",
       "  </thead>\n",
       "  <tbody>\n",
       "    <tr>\n",
       "      <th>0</th>\n",
       "      <td>2021-01-01</td>\n",
       "      <td>18:00:00</td>\n",
       "      <td>79.8</td>\n",
       "    </tr>\n",
       "    <tr>\n",
       "      <th>1</th>\n",
       "      <td>2021-01-01</td>\n",
       "      <td>20:00:00</td>\n",
       "      <td>80.4</td>\n",
       "    </tr>\n",
       "    <tr>\n",
       "      <th>2</th>\n",
       "      <td>2021-01-01</td>\n",
       "      <td>22:00:00</td>\n",
       "      <td>79.9</td>\n",
       "    </tr>\n",
       "    <tr>\n",
       "      <th>3</th>\n",
       "      <td>2021-01-02</td>\n",
       "      <td>18:00:00</td>\n",
       "      <td>80.6</td>\n",
       "    </tr>\n",
       "    <tr>\n",
       "      <th>4</th>\n",
       "      <td>2021-01-02</td>\n",
       "      <td>20:00:00</td>\n",
       "      <td>81.5</td>\n",
       "    </tr>\n",
       "  </tbody>\n",
       "</table>\n",
       "</div>"
      ],
      "text/plain": [
       "         Date      Time  Observed Flux\n",
       "0  2021-01-01  18:00:00           79.8\n",
       "1  2021-01-01  20:00:00           80.4\n",
       "2  2021-01-01  22:00:00           79.9\n",
       "3  2021-01-02  18:00:00           80.6\n",
       "4  2021-01-02  20:00:00           81.5"
      ]
     },
     "execution_count": 5,
     "metadata": {},
     "output_type": "execute_result"
    }
   ],
   "source": [
    "f10_obs = f10_obs.drop(['Julian day', 'Carringtonrotation', 'Adjusted Flux', 'URSI Flux'], axis=1)\n",
    "f10_obs.head()"
   ]
  },
  {
   "cell_type": "markdown",
   "id": "ba3001d0",
   "metadata": {},
   "source": [
    "Next I need to select all rows where time = 20."
   ]
  },
  {
   "cell_type": "code",
   "execution_count": 6,
   "id": "5c3998c5",
   "metadata": {},
   "outputs": [
    {
     "data": {
      "text/html": [
       "<div>\n",
       "<style scoped>\n",
       "    .dataframe tbody tr th:only-of-type {\n",
       "        vertical-align: middle;\n",
       "    }\n",
       "\n",
       "    .dataframe tbody tr th {\n",
       "        vertical-align: top;\n",
       "    }\n",
       "\n",
       "    .dataframe thead th {\n",
       "        text-align: right;\n",
       "    }\n",
       "</style>\n",
       "<table border=\"1\" class=\"dataframe\">\n",
       "  <thead>\n",
       "    <tr style=\"text-align: right;\">\n",
       "      <th></th>\n",
       "      <th>Date</th>\n",
       "      <th>Time</th>\n",
       "      <th>Observed Flux</th>\n",
       "    </tr>\n",
       "  </thead>\n",
       "  <tbody>\n",
       "    <tr>\n",
       "      <th>1</th>\n",
       "      <td>2021-01-01</td>\n",
       "      <td>20:00:00</td>\n",
       "      <td>80.4</td>\n",
       "    </tr>\n",
       "    <tr>\n",
       "      <th>4</th>\n",
       "      <td>2021-01-02</td>\n",
       "      <td>20:00:00</td>\n",
       "      <td>81.5</td>\n",
       "    </tr>\n",
       "    <tr>\n",
       "      <th>7</th>\n",
       "      <td>2021-01-03</td>\n",
       "      <td>20:00:00</td>\n",
       "      <td>80.4</td>\n",
       "    </tr>\n",
       "    <tr>\n",
       "      <th>10</th>\n",
       "      <td>2021-01-04</td>\n",
       "      <td>20:00:00</td>\n",
       "      <td>77.6</td>\n",
       "    </tr>\n",
       "    <tr>\n",
       "      <th>13</th>\n",
       "      <td>2021-01-05</td>\n",
       "      <td>20:00:00</td>\n",
       "      <td>75.1</td>\n",
       "    </tr>\n",
       "  </tbody>\n",
       "</table>\n",
       "</div>"
      ],
      "text/plain": [
       "          Date      Time  Observed Flux\n",
       "1   2021-01-01  20:00:00           80.4\n",
       "4   2021-01-02  20:00:00           81.5\n",
       "7   2021-01-03  20:00:00           80.4\n",
       "10  2021-01-04  20:00:00           77.6\n",
       "13  2021-01-05  20:00:00           75.1"
      ]
     },
     "execution_count": 6,
     "metadata": {},
     "output_type": "execute_result"
    }
   ],
   "source": [
    "f10_obs = f10_obs.loc[f10_obs['Time'] == \"20:00:00\"]\n",
    "f10_obs.head()"
   ]
  },
  {
   "cell_type": "markdown",
   "id": "8b31cf1e",
   "metadata": {},
   "source": [
    "Next I will delete the Time column and reindex."
   ]
  },
  {
   "cell_type": "code",
   "execution_count": 7,
   "id": "ca76f9c0",
   "metadata": {},
   "outputs": [
    {
     "data": {
      "text/html": [
       "<div>\n",
       "<style scoped>\n",
       "    .dataframe tbody tr th:only-of-type {\n",
       "        vertical-align: middle;\n",
       "    }\n",
       "\n",
       "    .dataframe tbody tr th {\n",
       "        vertical-align: top;\n",
       "    }\n",
       "\n",
       "    .dataframe thead th {\n",
       "        text-align: right;\n",
       "    }\n",
       "</style>\n",
       "<table border=\"1\" class=\"dataframe\">\n",
       "  <thead>\n",
       "    <tr style=\"text-align: right;\">\n",
       "      <th></th>\n",
       "      <th>Date</th>\n",
       "      <th>Observed Flux</th>\n",
       "    </tr>\n",
       "  </thead>\n",
       "  <tbody>\n",
       "    <tr>\n",
       "      <th>1</th>\n",
       "      <td>2021-01-01</td>\n",
       "      <td>80.4</td>\n",
       "    </tr>\n",
       "    <tr>\n",
       "      <th>4</th>\n",
       "      <td>2021-01-02</td>\n",
       "      <td>81.5</td>\n",
       "    </tr>\n",
       "    <tr>\n",
       "      <th>7</th>\n",
       "      <td>2021-01-03</td>\n",
       "      <td>80.4</td>\n",
       "    </tr>\n",
       "    <tr>\n",
       "      <th>10</th>\n",
       "      <td>2021-01-04</td>\n",
       "      <td>77.6</td>\n",
       "    </tr>\n",
       "    <tr>\n",
       "      <th>13</th>\n",
       "      <td>2021-01-05</td>\n",
       "      <td>75.1</td>\n",
       "    </tr>\n",
       "  </tbody>\n",
       "</table>\n",
       "</div>"
      ],
      "text/plain": [
       "          Date  Observed Flux\n",
       "1   2021-01-01           80.4\n",
       "4   2021-01-02           81.5\n",
       "7   2021-01-03           80.4\n",
       "10  2021-01-04           77.6\n",
       "13  2021-01-05           75.1"
      ]
     },
     "execution_count": 7,
     "metadata": {},
     "output_type": "execute_result"
    }
   ],
   "source": [
    "f10_obs = f10_obs.drop(['Time'], axis=1)\n",
    "f10_obs.head()"
   ]
  },
  {
   "cell_type": "code",
   "execution_count": 8,
   "id": "ddf7e763",
   "metadata": {},
   "outputs": [
    {
     "data": {
      "text/html": [
       "<div>\n",
       "<style scoped>\n",
       "    .dataframe tbody tr th:only-of-type {\n",
       "        vertical-align: middle;\n",
       "    }\n",
       "\n",
       "    .dataframe tbody tr th {\n",
       "        vertical-align: top;\n",
       "    }\n",
       "\n",
       "    .dataframe thead th {\n",
       "        text-align: right;\n",
       "    }\n",
       "</style>\n",
       "<table border=\"1\" class=\"dataframe\">\n",
       "  <thead>\n",
       "    <tr style=\"text-align: right;\">\n",
       "      <th></th>\n",
       "      <th>Date</th>\n",
       "      <th>Observed Flux</th>\n",
       "    </tr>\n",
       "  </thead>\n",
       "  <tbody>\n",
       "    <tr>\n",
       "      <th>0</th>\n",
       "      <td>2021-01-01</td>\n",
       "      <td>80.4</td>\n",
       "    </tr>\n",
       "    <tr>\n",
       "      <th>1</th>\n",
       "      <td>2021-01-02</td>\n",
       "      <td>81.5</td>\n",
       "    </tr>\n",
       "    <tr>\n",
       "      <th>2</th>\n",
       "      <td>2021-01-03</td>\n",
       "      <td>80.4</td>\n",
       "    </tr>\n",
       "    <tr>\n",
       "      <th>3</th>\n",
       "      <td>2021-01-04</td>\n",
       "      <td>77.6</td>\n",
       "    </tr>\n",
       "    <tr>\n",
       "      <th>4</th>\n",
       "      <td>2021-01-05</td>\n",
       "      <td>75.1</td>\n",
       "    </tr>\n",
       "  </tbody>\n",
       "</table>\n",
       "</div>"
      ],
      "text/plain": [
       "         Date  Observed Flux\n",
       "0  2021-01-01           80.4\n",
       "1  2021-01-02           81.5\n",
       "2  2021-01-03           80.4\n",
       "3  2021-01-04           77.6\n",
       "4  2021-01-05           75.1"
      ]
     },
     "execution_count": 8,
     "metadata": {},
     "output_type": "execute_result"
    }
   ],
   "source": [
    "f10_obs = f10_obs.reset_index(drop=True)\n",
    "f10_obs.head()"
   ]
  },
  {
   "cell_type": "markdown",
   "id": "2a6f8046",
   "metadata": {},
   "source": [
    "Now I have a daily table with Observed F10 Numbers (also known as Flux)."
   ]
  },
  {
   "cell_type": "code",
   "execution_count": 9,
   "id": "9a2ebcf4",
   "metadata": {},
   "outputs": [
    {
     "data": {
      "text/plain": [
       "(364, 2)"
      ]
     },
     "execution_count": 9,
     "metadata": {},
     "output_type": "execute_result"
    }
   ],
   "source": [
    "f10_obs.shape"
   ]
  },
  {
   "cell_type": "code",
   "execution_count": 34,
   "id": "49d116a3",
   "metadata": {},
   "outputs": [],
   "source": [
    "from matplotlib import pyplot as plt"
   ]
  },
  {
   "cell_type": "code",
   "execution_count": 50,
   "id": "8575b3f3",
   "metadata": {},
   "outputs": [
    {
     "data": {
      "image/png": "[encoded data removed]",
      "text/plain": [
       "<Figure size 756x468 with 1 Axes>"
      ]
     },
     "metadata": {
      "needs_background": "light"
     },
     "output_type": "display_data"
    }
   ],
   "source": [
    "x=f10_obs['Date']\n",
    "y=f10_obs['Observed Flux']\n",
    "\n",
    "plt.rcParams[\"figure.figsize\"] = [10.50, 6.50]\n",
    "plt.rcParams[\"figure.autolayout\"] = True\n",
    "\n",
    "\n",
    "fig, ax = plt.subplots()\n",
    "ax.plot(x, y, marker='', linestyle='-')\n",
    "plt.ylabel(\"10.7 cm Flux Value \")\n",
    "plt.xlabel(\"Time Increasing 1 Jan - 31 Dec 2021\")\n",
    "\n",
    "ax.axes.xaxis.set_ticklabels([]) # just show ticks, no labels\n",
    "plt.show()"
   ]
  },
  {
   "cell_type": "markdown",
   "id": "a349e9a3",
   "metadata": {},
   "source": [
    "#### Solar Regions Summaries (SRS) from 2021"
   ]
  },
  {
   "cell_type": "markdown",
   "id": "0d6eca38",
   "metadata": {},
   "source": [
    "The SRS contains a daily sunspot record, including: Sunspot Area, Z (Zurich Classification Type), Mag Type, and Location. Other metrics can be calculated from these data, such as daily sunspot number."
   ]
  },
  {
   "cell_type": "markdown",
   "id": "3dc53877",
   "metadata": {},
   "source": [
    "A tar.gz file of all daily SRS summaries from 2021 was download from ftp.swpc.noaa.gov on 12/19/22 and saved locally."
   ]
  },
  {
   "cell_type": "code",
   "execution_count": 12,
   "id": "a43db8a9",
   "metadata": {},
   "outputs": [],
   "source": [
    "import tarfile"
   ]
  },
  {
   "cell_type": "code",
   "execution_count": 13,
   "id": "0e701cba",
   "metadata": {},
   "outputs": [],
   "source": [
    "file = tarfile.open('C:/Users/john_/OneDrive/Desktop/SWPC/F10 Project/2021_SRS.tar.gz')"
   ]
  },
  {
   "cell_type": "code",
   "execution_count": 14,
   "id": "f8084952",
   "metadata": {},
   "outputs": [],
   "source": [
    "file.extractall('C:/Users/john_/OneDrive/Desktop/SWPC/F10 Project')"
   ]
  },
  {
   "cell_type": "code",
   "execution_count": 15,
   "id": "79a20ecb",
   "metadata": {},
   "outputs": [],
   "source": [
    "file.close()"
   ]
  },
  {
   "cell_type": "code",
   "execution_count": 16,
   "id": "ebb589a6",
   "metadata": {},
   "outputs": [],
   "source": [
    "import os"
   ]
  },
  {
   "cell_type": "code",
   "execution_count": 17,
   "id": "ff771099",
   "metadata": {},
   "outputs": [],
   "source": [
    "folder = os.chdir('C:/Users/john_/OneDrive/Desktop/SWPC/F10 Project/2021_SRS')"
   ]
  },
  {
   "cell_type": "code",
   "execution_count": 18,
   "id": "0bf11c9a",
   "metadata": {},
   "outputs": [
    {
     "data": {
      "text/plain": [
       "'C:\\\\Users\\\\john_\\\\OneDrive\\\\Desktop\\\\SWPC\\\\F10 Project\\\\2021_SRS'"
      ]
     },
     "execution_count": 18,
     "metadata": {},
     "output_type": "execute_result"
    }
   ],
   "source": [
    "os.getcwd() # local folder where all files are saved"
   ]
  },
  {
   "cell_type": "code",
   "execution_count": 19,
   "id": "4ca89101",
   "metadata": {},
   "outputs": [],
   "source": [
    "entries = os.listdir(folder) # list all files in folder"
   ]
  },
  {
   "cell_type": "code",
   "execution_count": 20,
   "id": "18ca6845",
   "metadata": {
    "scrolled": true
   },
   "outputs": [
    {
     "data": {
      "text/plain": [
       "366"
      ]
     },
     "execution_count": 20,
     "metadata": {},
     "output_type": "execute_result"
    }
   ],
   "source": [
    "len(entries) # counts all files in folder, corresponding the 365 days in the year"
   ]
  },
  {
   "cell_type": "markdown",
   "id": "41e1d3b2",
   "metadata": {},
   "source": [
    "The data can now begin to be extracted from the daily SRS's."
   ]
  },
  {
   "cell_type": "code",
   "execution_count": 21,
   "id": "1b74d0cb",
   "metadata": {},
   "outputs": [],
   "source": [
    "file1 = entries[0] # saving the first file to a variable "
   ]
  },
  {
   "cell_type": "code",
   "execution_count": 22,
   "id": "7ee136c5",
   "metadata": {},
   "outputs": [
    {
     "name": "stdout",
     "output_type": "stream",
     "text": [
      ":Product: 0101SRS.txt\n",
      ":Issued: 2021 Jan 01 0030 UTC\n",
      "# Prepared jointly by the U.S. Dept. of Commerce, NOAA,\n",
      "# Space Weather Prediction Center and the U.S. Air Force.\n",
      "#\n",
      "Joint USAF/NOAA Solar Region Summary\n",
      "SRS Number 1 Issued at 0030Z on 01 Jan 2021\n",
      "Report compiled from data received at SWO on 31 Dec\n",
      "I.  Regions with Sunspots.  Locations Valid at 31/2400Z \n",
      "Nmbr Location  Lo  Area  Z   LL   NN Mag Type\n",
      "2794 S16W68   344  0180 Hsx  02   01 Alpha\n",
      "2795 S18W38   316  0030 Bxo  10   04 Beta\n",
      "IA. H-alpha Plages without Spots.  Locations Valid at 31/2400Z Dec\n",
      "Nmbr  Location  Lo\n",
      "None\n",
      "II. Regions Due to Return 01 Jan to 03 Jan\n",
      "Nmbr Lat    Lo\n",
      "None\n",
      "\n"
     ]
    }
   ],
   "source": [
    "test_file = open(file1, \"r\") # displaying the text file\n",
    "print(test_file.read())\n",
    "test_file.close()"
   ]
  },
  {
   "cell_type": "markdown",
   "id": "286572a1",
   "metadata": {},
   "source": [
    "#### SWPC Daily F-10 (forecast)"
   ]
  },
  {
   "cell_type": "markdown",
   "id": "1c3a98ca",
   "metadata": {},
   "source": [
    "These forecasts can be extracted from the Report of Solar-Geophysical Activity (SGARF)"
   ]
  },
  {
   "cell_type": "code",
   "execution_count": 23,
   "id": "05fe00b9",
   "metadata": {},
   "outputs": [],
   "source": [
    "file1 = tarfile.open('C:/Users/john_/OneDrive/Desktop/SWPC/F10 Project/2021_RSGA.tar.gz')"
   ]
  },
  {
   "cell_type": "code",
   "execution_count": 24,
   "id": "bbdd951b",
   "metadata": {},
   "outputs": [],
   "source": [
    "file1.extractall('C:/Users/john_/OneDrive/Desktop/SWPC/F10 Project')\n",
    "file1.close()"
   ]
  },
  {
   "cell_type": "code",
   "execution_count": 25,
   "id": "cdbb2818",
   "metadata": {},
   "outputs": [],
   "source": [
    "folder1 = os.chdir('C:/Users/john_/OneDrive/Desktop/SWPC/F10 Project/2021_RSGA')"
   ]
  },
  {
   "cell_type": "code",
   "execution_count": 26,
   "id": "3622ec66",
   "metadata": {},
   "outputs": [],
   "source": [
    "entries1 = os.listdir(folder1)"
   ]
  },
  {
   "cell_type": "code",
   "execution_count": 27,
   "id": "79236755",
   "metadata": {},
   "outputs": [],
   "source": [
    "file2 = entries1[0]"
   ]
  },
  {
   "cell_type": "code",
   "execution_count": 28,
   "id": "c6bd2169",
   "metadata": {},
   "outputs": [
    {
     "name": "stdout",
     "output_type": "stream",
     "text": [
      ":Product: 0101RSGA.txt\n",
      ":Issued: 2021 Jan 01 2200 UTC\n",
      "# Prepared jointly by the U.S. Dept. of Commerce, NOAA,\n",
      "# Space Weather Prediction Center and the U.S. Air Force.\n",
      "#\n",
      "Joint USAF/NOAA Solar Geophysical Activity Report and Forecast\n",
      "SDF Number 1 Issued at 2200Z on 01 Jan 2021\n",
      "\n",
      "IA.  Analysis of Solar Active Regions and Activity from 31/2100Z to\n",
      "01/2100Z: Solar activity has been at very low levels for the past 24\n",
      "hours. There are currently 2 numbered sunspot regions on the disk.\n",
      "IB.  Solar Activity Forecast: Solar activity is expected to be very low\n",
      "with a slight chance for a C-class flare on day one (02 Jan) and\n",
      "expected to be very low on days two and three (03 Jan, 04 Jan).\n",
      "\n",
      "IIA.  Geophysical Activity Summary 31/2100Z to 01/2100Z: The geomagnetic\n",
      "field has been at quiet levels for the past 24 hours. Solar wind speed\n",
      "reached a peak of 381 km/s at 01/0012Z.  Electrons greater than 2 MeV at\n",
      "geosynchronous orbit reached a peak level of 553 pfu.\n",
      "IIB.  Geophysical Activity Forecast: The geomagnetic field is expected\n",
      "to be at quiet levels on days one and three (02 Jan, 04 Jan) and quiet\n",
      "to unsettled levels on day two (03 Jan).\n",
      "\n",
      "III.  Event probabilities 02 Jan-04 Jan\n",
      "Class M    01/01/01\n",
      "Class X    01/01/01\n",
      "Proton     01/01/01\n",
      "PCAF       green\n",
      "\n",
      "IV.  Penticton 10.7 cm Flux\n",
      "Observed           01 Jan 080\n",
      "Predicted   02 Jan-04 Jan 080/079/079\n",
      "90 Day Mean        01 Jan 084\n",
      "\n",
      "V.  Geomagnetic A Indices\n",
      "Observed Afr/Ap 31 Dec  002/002\n",
      "Estimated Afr/Ap 01 Jan  004/005\n",
      "Predicted Afr/Ap 02 Jan-04 Jan  006/005-008/008-005/005\n",
      "\n",
      "VI.  Geomagnetic Activity Probabilities 02 Jan-04 Jan\n",
      "A.  Middle Latitudes\n",
      "Active                10/15/10\n",
      "Minor Storm           01/05/01\n",
      "Major-severe storm    01/01/01\n",
      "B.  High Latitudes\n",
      "Active                15/15/20\n",
      "Minor Storm           20/25/20\n",
      "Major-severe storm    10/25/10\n",
      "\n"
     ]
    }
   ],
   "source": [
    "test_file2 = open(file2, \"r\") # displaying the text file\n",
    "print(test_file2.read())\n",
    "test_file2.close()"
   ]
  },
  {
   "cell_type": "markdown",
   "id": "9873681a",
   "metadata": {},
   "source": [
    "Or you can ask the db guy nicely to pull the data :)"
   ]
  },
  {
   "cell_type": "code",
   "execution_count": 29,
   "id": "dbfd01fb",
   "metadata": {},
   "outputs": [],
   "source": [
    "f10_pred = pd.read_csv('C:/Users/john_/OneDrive/Desktop/SWPC/F10 Project/f10_pred.csv')"
   ]
  },
  {
   "cell_type": "code",
   "execution_count": 30,
   "id": "33f79db0",
   "metadata": {},
   "outputs": [
    {
     "data": {
      "text/html": [
       "<div>\n",
       "<style scoped>\n",
       "    .dataframe tbody tr th:only-of-type {\n",
       "        vertical-align: middle;\n",
       "    }\n",
       "\n",
       "    .dataframe tbody tr th {\n",
       "        vertical-align: top;\n",
       "    }\n",
       "\n",
       "    .dataframe thead th {\n",
       "        text-align: right;\n",
       "    }\n",
       "</style>\n",
       "<table border=\"1\" class=\"dataframe\">\n",
       "  <thead>\n",
       "    <tr style=\"text-align: right;\">\n",
       "      <th></th>\n",
       "      <th>Issueday</th>\n",
       "      <th>day1</th>\n",
       "      <th>day2</th>\n",
       "      <th>day3</th>\n",
       "      <th>day4</th>\n",
       "      <th>day5</th>\n",
       "      <th>day6</th>\n",
       "      <th>day7</th>\n",
       "    </tr>\n",
       "  </thead>\n",
       "  <tbody>\n",
       "    <tr>\n",
       "      <th>0</th>\n",
       "      <td>2021-01-01 00:00:00.000</td>\n",
       "      <td>80.0</td>\n",
       "      <td>79.0</td>\n",
       "      <td>79.0</td>\n",
       "      <td>78.0</td>\n",
       "      <td>78.0</td>\n",
       "      <td>78.0</td>\n",
       "      <td>78.0</td>\n",
       "    </tr>\n",
       "    <tr>\n",
       "      <th>1</th>\n",
       "      <td>2021-01-02 00:00:00.000</td>\n",
       "      <td>80.0</td>\n",
       "      <td>80.0</td>\n",
       "      <td>78.0</td>\n",
       "      <td>78.0</td>\n",
       "      <td>78.0</td>\n",
       "      <td>78.0</td>\n",
       "      <td>78.0</td>\n",
       "    </tr>\n",
       "    <tr>\n",
       "      <th>2</th>\n",
       "      <td>2021-01-03 00:00:00.000</td>\n",
       "      <td>80.0</td>\n",
       "      <td>78.0</td>\n",
       "      <td>78.0</td>\n",
       "      <td>78.0</td>\n",
       "      <td>78.0</td>\n",
       "      <td>78.0</td>\n",
       "      <td>78.0</td>\n",
       "    </tr>\n",
       "    <tr>\n",
       "      <th>3</th>\n",
       "      <td>2021-01-04 00:00:00.000</td>\n",
       "      <td>77.0</td>\n",
       "      <td>77.0</td>\n",
       "      <td>77.0</td>\n",
       "      <td>77.0</td>\n",
       "      <td>77.0</td>\n",
       "      <td>77.0</td>\n",
       "      <td>77.0</td>\n",
       "    </tr>\n",
       "    <tr>\n",
       "      <th>4</th>\n",
       "      <td>2021-01-05 00:00:00.000</td>\n",
       "      <td>75.0</td>\n",
       "      <td>75.0</td>\n",
       "      <td>75.0</td>\n",
       "      <td>75.0</td>\n",
       "      <td>75.0</td>\n",
       "      <td>75.0</td>\n",
       "      <td>75.0</td>\n",
       "    </tr>\n",
       "  </tbody>\n",
       "</table>\n",
       "</div>"
      ],
      "text/plain": [
       "                  Issueday  day1  day2  day3  day4  day5  day6  day7\n",
       "0  2021-01-01 00:00:00.000  80.0  79.0  79.0  78.0  78.0  78.0  78.0\n",
       "1  2021-01-02 00:00:00.000  80.0  80.0  78.0  78.0  78.0  78.0  78.0\n",
       "2  2021-01-03 00:00:00.000  80.0  78.0  78.0  78.0  78.0  78.0  78.0\n",
       "3  2021-01-04 00:00:00.000  77.0  77.0  77.0  77.0  77.0  77.0  77.0\n",
       "4  2021-01-05 00:00:00.000  75.0  75.0  75.0  75.0  75.0  75.0  75.0"
      ]
     },
     "execution_count": 30,
     "metadata": {},
     "output_type": "execute_result"
    }
   ],
   "source": [
    "f10_pred.head()"
   ]
  },
  {
   "cell_type": "code",
   "execution_count": null,
   "id": "20b8bfe2",
   "metadata": {},
   "outputs": [],
   "source": []
  },
  {
   "cell_type": "markdown",
   "id": "fb2bbc9f",
   "metadata": {},
   "source": [
    "- X-ray flares from 2021 Edited Events"
   ]
  },
  {
   "cell_type": "code",
   "execution_count": null,
   "id": "b4715eca",
   "metadata": {},
   "outputs": [],
   "source": []
  }
 ],
 "metadata": {
  "kernelspec": {
   "display_name": "Python 3",
   "language": "python",
   "name": "python3"
  },
  "language_info": {
   "codemirror_mode": {
    "name": "ipython",
    "version": 3
   },
   "file_extension": ".py",
   "mimetype": "text/x-python",
   "name": "python",
   "nbconvert_exporter": "python",
   "pygments_lexer": "ipython3",
   "version": "3.8.8"
  }
 },
 "nbformat": 4,
 "nbformat_minor": 5
}
